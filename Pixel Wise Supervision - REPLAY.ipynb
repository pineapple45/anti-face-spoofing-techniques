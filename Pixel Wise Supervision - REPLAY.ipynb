{
  "cells": [
    {
      "cell_type": "markdown",
      "id": "50bb010c",
      "metadata": {
        "id": "50bb010c"
      },
      "source": [
        "# DATA PROCESSING AND CLEANUP"
      ]
    },
    {
      "cell_type": "code",
      "execution_count": null,
      "id": "2870e3e6",
      "metadata": {
        "id": "2870e3e6"
      },
      "outputs": [],
      "source": [
        "pwd"
      ]
    },
    {
      "cell_type": "code",
      "execution_count": null,
      "id": "8ef24280",
      "metadata": {
        "id": "8ef24280"
      },
      "outputs": [],
      "source": [
        "ls"
      ]
    },
    {
      "cell_type": "code",
      "execution_count": null,
      "id": "30497953",
      "metadata": {
        "id": "30497953"
      },
      "outputs": [],
      "source": [
        "import os,tarfile"
      ]
    },
    {
      "cell_type": "code",
      "execution_count": null,
      "id": "a1f09d77",
      "metadata": {
        "id": "a1f09d77"
      },
      "outputs": [],
      "source": [
        "# change current working directory to OULU\n",
        "os.chdir('/media/pineapple45/Elements/anmol/btp/replayattack')"
      ]
    },
    {
      "cell_type": "code",
      "execution_count": null,
      "id": "a14f385b",
      "metadata": {
        "id": "a14f385b"
      },
      "outputs": [],
      "source": [
        "# list all files in OULU\n"
      ]
    },
    {
      "cell_type": "code",
      "execution_count": null,
      "id": "7e9b2edc",
      "metadata": {
        "id": "7e9b2edc"
      },
      "outputs": [],
      "source": [
        "# EXTRACT .tar FILES FOR TRAINING DATA\n",
        "train_files = tarfile.open('replayattack-train.tar.gz')\n",
        "train_files.extractall('train_files') # specify which folder to extract to\n",
        "train_files.close()"
      ]
    },
    {
      "cell_type": "code",
      "execution_count": null,
      "id": "faa5c8b1",
      "metadata": {
        "id": "faa5c8b1"
      },
      "outputs": [],
      "source": [
        "# EXTRACT .tar FILES FOR TESTING DATA\n",
        "os.chdir('/media/pineapple45/Elements/anmol/btp/replayattack')\n",
        "test_files = tarfile.open('replayattack-test.tar.gz')\n",
        "os.chdir('/home/pineapple45/ANMOL/BTP/pixel-wise-supervision/replayattack')\n",
        "test_files.extractall('test_files') # specify which folder to extract to\n",
        "test_files.close()"
      ]
    },
    {
      "cell_type": "code",
      "execution_count": null,
      "id": "7ddf2838",
      "metadata": {
        "id": "7ddf2838"
      },
      "outputs": [],
      "source": [
        "# EXTRACT .tar FILES FOR ENROLLMENT DATA\n",
        "os.chdir('/media/pineapple45/Elements/anmol/btp/replayattack')\n",
        "enrollment_files = tarfile.open('replayattack-enroll.tar.gz')\n",
        "os.chdir('/home/pineapple45/ANMOL/BTP/pixel-wise-supervision/replayattack')\n",
        "enrollment_files.extractall('enrollment_files') # specify which folder to extract to\n",
        "enrollment_files.close()"
      ]
    },
    {
      "cell_type": "code",
      "execution_count": null,
      "id": "3443a561",
      "metadata": {
        "id": "3443a561"
      },
      "outputs": [],
      "source": [
        "# EXTRACT .tar FILES FOR DEVLOPEMENT DATA\n",
        "os.chdir('/media/pineapple45/Elements/anmol/btp/replayattack')\n",
        "dev_files = tarfile.open('replayattack-devel.tar.gz')\n",
        "os.chdir('/home/pineapple45/ANMOL/BTP/pixel-wise-supervision/replayattack')\n",
        "dev_files.extractall('dev_files') # specify which folder to extract to\n",
        "dev_files.close()\n"
      ]
    },
    {
      "cell_type": "code",
      "execution_count": null,
      "id": "d08f6ed2",
      "metadata": {
        "id": "d08f6ed2"
      },
      "outputs": [],
      "source": [
        "# EXTRACT .tar FILES FOR FACE LOCATIONS DATA\n",
        "os.chdir('/media/pineapple45/Elements/anmol/btp/replayattack')\n",
        "face_loc_files = tarfile.open('replayattack-face-locations-v2.tar.gz')\n",
        "os.chdir('/home/pineapple45/ANMOL/BTP/pixel-wise-supervision/replayattack')\n",
        "face_loc_files.extractall('face_loc_files') # specify which folder to extract to\n",
        "face_loc_files.close()\n"
      ]
    },
    {
      "cell_type": "code",
      "execution_count": null,
      "id": "fa113a6d",
      "metadata": {
        "id": "fa113a6d"
      },
      "outputs": [],
      "source": [
        "# EXTRACT .tar FILES FOR PROTOCOLS DATA\n",
        "os.chdir('/media/pineapple45/Elements/anmol/btp/replayattack')\n",
        "protocols_files = tarfile.open('protocols-v3.tar.gz')\n",
        "os.chdir('/home/pineapple45/ANMOL/BTP/pixel-wise-supervision/replayattack')\n",
        "protocols_files.extractall('protocols_files') # specify which folder to extract to\n",
        "protocols_files.close()\n"
      ]
    },
    {
      "cell_type": "code",
      "execution_count": null,
      "id": "cca306e5",
      "metadata": {
        "id": "cca306e5"
      },
      "outputs": [],
      "source": [
        "# EXTRACT .tar FILES FOR COMPETETIONS ICB 2013 TESTSET DATA\n",
        "os.chdir('/media/pineapple45/Elements/anmol/btp/replayattack')\n",
        "icb_test_files = tarfile.open('competition_icb2013_testset.tar.gz')\n",
        "os.chdir('/home/pineapple45/ANMOL/BTP/pixel-wise-supervision/replayattack')\n",
        "icb_test_files.extractall('icb_test_files') # specify which folder to extract to\n",
        "icb_test_files.close()\n"
      ]
    },
    {
      "cell_type": "markdown",
      "id": "c486d873",
      "metadata": {
        "id": "c486d873"
      },
      "source": [
        "### EXTRACTING FRAMES FROM INPUT VIDEO"
      ]
    },
    {
      "cell_type": "code",
      "execution_count": null,
      "id": "1a1c2880",
      "metadata": {
        "id": "1a1c2880"
      },
      "outputs": [],
      "source": [
        "import cv2\n",
        "import numpy as np"
      ]
    },
    {
      "cell_type": "code",
      "execution_count": null,
      "id": "b4b96c77",
      "metadata": {
        "id": "b4b96c77"
      },
      "outputs": [],
      "source": [
        "# DEFINING PARAMETERS FOR VIDEO CLASSIFICATION\n",
        "IMG_SIZE=256\n",
        "CHANNELS=3"
      ]
    },
    {
      "cell_type": "code",
      "execution_count": null,
      "id": "3b255734",
      "metadata": {
        "id": "3b255734"
      },
      "outputs": [],
      "source": [
        "# The following two methods are taken from this tutorial:\n",
        "# https://www.tensorflow.org/hub/tutorials/action_recognition_with_tf_hub\n",
        "\n",
        "def crop_center_square(frame):\n",
        "    y, x = frame.shape[0:2]\n",
        "    min_dim = min(y, x)\n",
        "    start_x = (x // 2) - (min_dim // 2)\n",
        "    start_y = (y // 2) - (min_dim // 2)\n",
        "    return frame[start_y : start_y + min_dim, start_x : start_x + min_dim]\n",
        "\n",
        "\n",
        "def load_video(path, max_frames=0, resize=(IMG_SIZE, IMG_SIZE)):\n",
        "    cap = cv2.VideoCapture(path)\n",
        "    frames = []\n",
        "    try:\n",
        "        while True:\n",
        "            ret, frame = cap.read()\n",
        "            if not ret:\n",
        "                break\n",
        "            frame = crop_center_square(frame)\n",
        "            frame = cv2.resize(frame, resize)\n",
        "            frame = frame[:, :, [2, 1, 0]]\n",
        "            frames.append(frame)\n",
        "\n",
        "            if len(frames) == max_frames:\n",
        "                break\n",
        "    finally:\n",
        "        cap.release()\n",
        "    return np.array(frames)"
      ]
    },
    {
      "cell_type": "code",
      "execution_count": null,
      "id": "0d721f68",
      "metadata": {
        "id": "0d721f68"
      },
      "outputs": [],
      "source": [
        "import cv2  \n",
        "  \n",
        "# Load the cascade  \n",
        "face_cascade = cv2.CascadeClassifier('haarcascade_frontalface_default.xml')  \n",
        "  \n",
        "# To capture video from existing video.   \n",
        "cap = cv2.VideoCapture('test.mov')  \n",
        "  \n",
        "while True:  \n",
        "    # Read the frame  \n",
        "    _, img = cap.read()  \n",
        "  \n",
        "    # Convert to grayscale  \n",
        "    gray = cv2.cvtColor(img, cv2.COLOR_BGR2GRAY)  \n",
        "  \n",
        "    # Detect the faces  \n",
        "    faces = face_cascade.detectMultiScale(gray, 1.1, 4)  \n",
        "  \n",
        "    # Draw the rectangle around each face  \n",
        "    for (x, y, w, h) in faces:  \n",
        "        cv2.rectangle(img, (x, y), (x+w, y+h), (255, 0, 0), 2)  \n",
        "  \n",
        "    # Display  \n",
        "    cv2.imshow('Video', img)  \n",
        "  \n",
        "    # Stop if escape key is pressed  \n",
        "    k = cv2.waitKey(30) & 0xff  \n",
        "    if k==27:  \n",
        "        break  \n",
        "          \n",
        "# Release the VideoCapture object  \n",
        "cap.release()  "
      ]
    },
    {
      "cell_type": "markdown",
      "id": "b93da835",
      "metadata": {
        "id": "b93da835"
      },
      "source": [
        "# ACTUAL COMPUTATION"
      ]
    },
    {
      "cell_type": "code",
      "source": [
        "# RUN THIS CODE CELL IN GOOGLE-COLLAB\n",
        "from google.colab import drive\n",
        "drive.mount('/content/drive')"
      ],
      "metadata": {
        "id": "DBO5qiA4H-Gx",
        "outputId": "2d83572c-c632-4dda-8cdd-e31c4c772c8c",
        "colab": {
          "base_uri": "https://localhost:8080/"
        }
      },
      "id": "DBO5qiA4H-Gx",
      "execution_count": 1,
      "outputs": [
        {
          "output_type": "stream",
          "name": "stdout",
          "text": [
            "Mounted at /content/drive\n"
          ]
        }
      ]
    },
    {
      "cell_type": "code",
      "source": [
        "# RUN THIS CODE CELL IN GOOGLE-COLLAB\n",
        "%cd '/content/drive/MyDrive/BTP/replay-attack-processed'"
      ],
      "metadata": {
        "id": "TNc-3Ky0IAyP",
        "outputId": "b375dc27-e94b-4504-8b0c-33431dd9c56e",
        "colab": {
          "base_uri": "https://localhost:8080/"
        }
      },
      "id": "TNc-3Ky0IAyP",
      "execution_count": 2,
      "outputs": [
        {
          "output_type": "stream",
          "name": "stdout",
          "text": [
            "/content/drive/MyDrive/BTP/replay-attack-processed\n"
          ]
        }
      ]
    },
    {
      "cell_type": "code",
      "execution_count": 37,
      "id": "1f0460d2",
      "metadata": {
        "id": "1f0460d2"
      },
      "outputs": [],
      "source": [
        "import numpy as np\n",
        "import zipfile, os, cv2, random\n",
        "import datetime\n",
        "from datetime import datetime as dt\n",
        "import tensorflow as tf\n",
        "from tensorflow.keras.applications import ResNet50\n",
        "from tensorflow.keras.applications import MobileNet\n",
        "from tensorflow.keras.models import load_model,Model\n",
        "from tensorflow import keras\n",
        "from tensorflow.keras import layers\n",
        "from PIL import Image\n",
        "import time\n",
        "import matplotlib.pyplot as plt\n",
        "import matplotlib\n",
        "import requests\n",
        "import base64\n",
        "import os\n",
        "import glob\n",
        "from pathlib import Path\n",
        "from io import BytesIO\n",
        "from google.colab.patches import cv2_imshow\n",
        "matplotlib.rcParams['figure.figsize'] = (12,12)\n",
        "matplotlib.rcParams['axes.grid'] = False"
      ]
    },
    {
      "cell_type": "code",
      "execution_count": 5,
      "id": "71a6ca81",
      "metadata": {
        "id": "71a6ca81",
        "outputId": "f1dac6df-9318-4acc-e323-bf915d76e29f",
        "colab": {
          "base_uri": "https://localhost:8080/"
        }
      },
      "outputs": [
        {
          "output_type": "stream",
          "name": "stdout",
          "text": [
            "Num GPUs Available:  1\n"
          ]
        }
      ],
      "source": [
        "print(\"Num GPUs Available: \", len(tf.config.list_physical_devices('GPU')))"
      ]
    },
    {
      "cell_type": "markdown",
      "id": "59afb695",
      "metadata": {
        "id": "59afb695"
      },
      "source": [
        "# DataLoader"
      ]
    },
    {
      "cell_type": "code",
      "source": [
        "# RUN THIS CODE CELL IN GOOGLE-COLLAB\n",
        "# IMG_SHAPE = (256, 256, 3)\n",
        "archive = zipfile.ZipFile('/content/drive/MyDrive/BTP/replay-attack-processed/train.zip', 'r')\n",
        "image_paths = [k for k in list(archive.namelist()) if '.jpg' in k]\n",
        "print('Train: Total =',len(image_paths), ', Attack =',len([path for path in image_paths if 'attack' in path]), ', Real =', len([path for path in image_paths if 'real' in path]))\n",
        "\n",
        "archive = zipfile.ZipFile('/content/drive/MyDrive/BTP/replay-attack-processed/val.zip', 'r')\n",
        "image_paths = [k for k in list(archive.namelist()) if '.jpg' in k]\n",
        "print('Val: Total =',len(image_paths), ', Attack =',len([path for path in image_paths if 'attack' in path]), ', Real =', len([path for path in image_paths if 'real' in path]))\n",
        "\n",
        "archive = zipfile.ZipFile('/content/drive/MyDrive/BTP/replay-attack-processed/test.zip', 'r')\n",
        "image_paths = [k for k in list(archive.namelist()) if '.jpg' in k]\n",
        "print('Test: Total =',len(image_paths), ', Attack =',len([path for path in image_paths if 'attack' in path]), ', Real =', len([path for path in image_paths if 'real' in path]))"
      ],
      "metadata": {
        "id": "S7XTzy6iIG6H",
        "outputId": "88b9a20e-b1d0-4241-ee40-bead867e9e6b",
        "colab": {
          "base_uri": "https://localhost:8080/"
        }
      },
      "id": "S7XTzy6iIG6H",
      "execution_count": 6,
      "outputs": [
        {
          "output_type": "stream",
          "name": "stdout",
          "text": [
            "Train: Total = 91705 , Attack = 69215 , Real = 22490\n",
            "Val: Total = 90952 , Attack = 68467 , Real = 22485\n",
            "Test: Total = 121028 , Attack = 91799 , Real = 29229\n"
          ]
        }
      ]
    },
    {
      "cell_type": "code",
      "execution_count": 6,
      "id": "f585a7d8",
      "metadata": {
        "id": "f585a7d8",
        "outputId": "2ee46ed6-6d99-4a15-c458-b6b3c559eeaf",
        "colab": {
          "base_uri": "https://localhost:8080/"
        }
      },
      "outputs": [
        {
          "output_type": "stream",
          "name": "stdout",
          "text": [
            "Train: Total = 0 , Attack = 0 , Real = 0\n",
            "Test: Total = 0 , Attack = 0 , Real = 0\n",
            "Validation: Total = 0 , Attack = 0 , Real = 0\n"
          ]
        }
      ],
      "source": [
        "# RUN THIS CODE CELL LOCALLY\n",
        "# IMG_SHAPE = (256, 256, 3)\n",
        "\n",
        "image_paths = [k for k in glob.iglob('./data/train' + '/**/*.jpg', recursive=True)]\n",
        "print('Train: Total =',len(image_paths), ', Attack =',len([path for path in image_paths if 'attack' in path]), ', Real =', len([path for path in image_paths if 'real' in path]))\n",
        "\n",
        "image_paths = [k for k in glob.iglob('./data/test' + '/**/*.jpg', recursive=True)]\n",
        "print('Test: Total =',len(image_paths), ', Attack =',len([path for path in image_paths if 'attack' in path]), ', Real =', len([path for path in image_paths if 'real' in path]))\n",
        "\n",
        "image_paths = [k for k in glob.iglob('./data/val' + '/**/*.jpg', recursive=True)]\n",
        "print('Validation: Total =',len(image_paths), ', Attack =',len([path for path in image_paths if 'attack' in path]), ', Real =', len([path for path in image_paths if 'real' in path]))"
      ]
    },
    {
      "cell_type": "code",
      "execution_count": 7,
      "id": "a1e96311",
      "metadata": {
        "id": "a1e96311"
      },
      "outputs": [],
      "source": [
        "def new_py_function(func, inp, Tout, name=None):\n",
        "  def wrapped_func(*flat_inp):\n",
        "    reconstructed_inp = tf.nest.pack_sequence_as(inp, flat_inp,expand_composites=True)\n",
        "    out = func(*reconstructed_inp)\n",
        "    return tf.nest.flatten(out, expand_composites=True)\n",
        "  flat_Tout = tf.nest.flatten(Tout, expand_composites=True)\n",
        "  flat_out = tf.py_function(\n",
        "      func=wrapped_func, \n",
        "      inp=tf.nest.flatten(inp, expand_composites=True),\n",
        "      Tout=[_tensor_spec_to_dtype(v) for v in flat_Tout],\n",
        "      name=name)\n",
        "  spec_out = tf.nest.map_structure(_dtype_to_tensor_spec, Tout, \n",
        "                                   expand_composites=True)\n",
        "  out = tf.nest.pack_sequence_as(spec_out, flat_out, expand_composites=True)\n",
        "  return out\n",
        "\n",
        "def _dtype_to_tensor_spec(v):\n",
        "  return tf.TensorSpec(None, v) if isinstance(v, tf.dtypes.DType) else v\n",
        "\n",
        "def _tensor_spec_to_dtype(v):\n",
        "  return v.dtype if isinstance(v, tf.TensorSpec) else v"
      ]
    },
    {
      "cell_type": "code",
      "execution_count": null,
      "id": "f39a1eea",
      "metadata": {
        "id": "f39a1eea"
      },
      "outputs": [],
      "source": [
        "# RUN THIS CODE CELL LOCALLY\n",
        "class DataLoader:\n",
        "  def __init__(self, dataset_path, batch_size=4, image_size=(256, 256), shuffle=True):\n",
        "    self.images_paths = [k for k in glob.iglob(dataset_path + '/**/*.jpg', recursive=True)]\n",
        "    random.shuffle(self.images_paths)\n",
        "    self.length = len(self.images_paths)\n",
        "    self.dim = image_size\n",
        "    dataset = tf.data.Dataset.from_tensor_slices(self.images_paths).map(\n",
        "            self.pad_map_fn, num_parallel_calls=3\n",
        "          )\n",
        "    if shuffle:\n",
        "#       dataset = dataset.shuffle(buffer_size=100000, reshuffle_each_iteration=True)\n",
        "      dataset = dataset.shuffle(buffer_size=5000, reshuffle_each_iteration=True)\n",
        "    dataset = dataset.batch(batch_size, drop_remainder=True).prefetch(buffer_size=3)\n",
        "    # dataset = dataset.repeat()\n",
        "    self.dataset = dataset.apply(tf.data.experimental.ignore_errors())  \n",
        "                  \n",
        "  def __len__(self):\n",
        "        return self.length\n",
        "\n",
        "  def load_tf_image(self, image_path):\n",
        "    image_path = image_path.numpy().decode(\"utf-8\")\n",
        "#     img_data = self.archive.read(image_path.strip())\n",
        "#     img_data = Image.open(image_path)\n",
        "#     img_data = img_data.tobytes(\"xbm\", \"rgb\")\n",
        "#     image = np.frombuffer(img_data, np.uint8)\n",
        "    image = cv2.imread(f\"{image_path}\")\n",
        "#     image = cv2.imdecode(image, cv2.IMREAD_COLOR)\n",
        "    image = cv2.cvtColor(image, cv2.COLOR_BGR2RGB)\n",
        "    image = cv2.resize(image, self.dim)\n",
        "    image = tf.convert_to_tensor(image, dtype=tf.float32)\n",
        "    image = tf.image.per_image_standardization(image)\n",
        "    image = tf.image.convert_image_dtype(image, tf.float32)\n",
        "\n",
        "    # label - attack = 0, real = 1\n",
        "    if 'attack' in image_path:\n",
        "      label =  tf.constant([0])\n",
        "      label_8 = tf.zeros_like(tf.random.uniform(shape=(8,8,1), minval=0, maxval=1, dtype=tf.dtypes.float32))\n",
        "      label_4 = tf.zeros_like(tf.random.uniform(shape=(4,4,1), minval=0, maxval=1, dtype=tf.dtypes.float32))\n",
        "      label_2 = tf.zeros_like(tf.random.uniform(shape=(2,2,1), minval=0, maxval=1, dtype=tf.dtypes.float32))\n",
        "      label_1 = tf.zeros_like(tf.random.uniform(shape=(1,1,1), minval=0, maxval=1, dtype=tf.dtypes.float32))\n",
        "    if 'real' in image_path:\n",
        "      label = tf.constant([1])\n",
        "      label_8 = tf.ones_like(tf.random.uniform(shape=(8,8,1), minval=0, maxval=1, dtype=tf.dtypes.float32))\n",
        "      label_4 = tf.ones_like(tf.random.uniform(shape=(4,4,1), minval=0, maxval=1, dtype=tf.dtypes.float32))\n",
        "      label_2 = tf.ones_like(tf.random.uniform(shape=(2,2,1), minval=0, maxval=1, dtype=tf.dtypes.float32))\n",
        "      label_1 = tf.ones_like(tf.random.uniform(shape=(1,1,1), minval=0, maxval=1, dtype=tf.dtypes.float32))\n",
        "\n",
        "    return {'image': image, 'label': label, 'label_8': label_8, 'label_4': label_4, 'label_2': label_2, 'label_1': label_1}\n",
        "\n",
        "  def pad_map_fn(self, img_path):\n",
        "    return new_py_function(self.load_tf_image, inp=[img_path], Tout=({\"image\": tf.float32, \"label\": tf.int32, 'label_8': tf.float32, 'label_4': tf.float32, 'label_2': tf.float32, 'label_1': tf.float32}))"
      ]
    },
    {
      "cell_type": "code",
      "source": [
        "# RUN THIS CODE CELL IN GOOGLE-COLLAB\n",
        "class DataLoader:\n",
        "  def __init__(self, dataset_path, batch_size=4, image_size=(256, 256), shuffle=True):\n",
        "    self.archive = zipfile.ZipFile(dataset_path, 'r')\n",
        "    self.images_paths = [k for k in list(self.archive.namelist()) if '.jpg' in k]\n",
        "    random.shuffle(self.images_paths)\n",
        "    self.length = len(self.images_paths)\n",
        "    self.dim = image_size\n",
        "    dataset = tf.data.Dataset.from_tensor_slices(self.images_paths).map(\n",
        "            self.pad_map_fn, num_parallel_calls=3\n",
        "          )\n",
        "    if shuffle:\n",
        "      dtaset = dataset.shuffle(buffer_size=1000, reshuffle_each_iteration=True)\n",
        "    dataset = dataset.batch(batch_size, drop_remainder=True).prefetch(buffer_size=3)\n",
        "    # dataset = dataset.repeat()\n",
        "    self.dataset = dataset.apply(tf.data.experimental.ignore_errors())  \n",
        "                  \n",
        "  def __len__(self):\n",
        "        return self.length\n",
        "\n",
        "  def load_tf_image(self, image_path):\n",
        "    image_path = image_path.numpy().decode(\"utf-8\")\n",
        "    img_data = self.archive.read(image_path.strip())\n",
        "    image = np.frombuffer(img_data, np.uint8)\n",
        "    image = cv2.imdecode(image, cv2.IMREAD_COLOR)\n",
        "    original_image = image\n",
        "    image = cv2.cvtColor(image, cv2.COLOR_BGR2RGB)\n",
        "    image = cv2.resize(image, self.dim)\n",
        "    image = tf.convert_to_tensor(image, dtype=tf.float32)\n",
        "    image = tf.image.per_image_standardization(image)\n",
        "    image = tf.image.convert_image_dtype(image, tf.float32)\n",
        "\n",
        "    # label - spoof = 0, real = 1\n",
        "    if 'attack' in image_path:\n",
        "      label =  tf.constant([0])\n",
        "      label_8 = tf.zeros_like(tf.random.uniform(shape=(8,8,1), minval=0, maxval=1, dtype=tf.dtypes.float32))\n",
        "      label_4 = tf.zeros_like(tf.random.uniform(shape=(4,4,1), minval=0, maxval=1, dtype=tf.dtypes.float32))\n",
        "      label_2 = tf.zeros_like(tf.random.uniform(shape=(2,2,1), minval=0, maxval=1, dtype=tf.dtypes.float32))\n",
        "      label_1 = tf.zeros_like(tf.random.uniform(shape=(1,1,1), minval=0, maxval=1, dtype=tf.dtypes.float32))\n",
        "    if 'real' in image_path:\n",
        "      label = tf.constant([1])\n",
        "      label_8 = tf.ones_like(tf.random.uniform(shape=(8,8,1), minval=0, maxval=1, dtype=tf.dtypes.float32))\n",
        "      label_4 = tf.ones_like(tf.random.uniform(shape=(4,4,1), minval=0, maxval=1, dtype=tf.dtypes.float32))\n",
        "      label_2 = tf.ones_like(tf.random.uniform(shape=(2,2,1), minval=0, maxval=1, dtype=tf.dtypes.float32))\n",
        "      label_1 = tf.ones_like(tf.random.uniform(shape=(1,1,1), minval=0, maxval=1, dtype=tf.dtypes.float32))\n",
        "\n",
        "    return {'original_image': original_image, 'image': image, 'label': label, 'label_8': label_8, 'label_4': label_4, 'label_2': label_2, 'label_1': label_1}\n",
        "\n",
        "  def pad_map_fn(self, img_path):\n",
        "    return new_py_function(self.load_tf_image, inp=[img_path], Tout=({\"original_image\":tf.float32, \"image\": tf.float32, \"label\": tf.int32, 'label_8': tf.float32, 'label_4': tf.float32, 'label_2': tf.float32, 'label_1': tf.float32}))"
      ],
      "metadata": {
        "id": "48-3ImrZIly_"
      },
      "id": "48-3ImrZIly_",
      "execution_count": 8,
      "outputs": []
    },
    {
      "cell_type": "code",
      "execution_count": null,
      "id": "c1529577",
      "metadata": {
        "id": "c1529577"
      },
      "outputs": [],
      "source": [
        "# RUN THIS CODE CELL LOCALLY\n",
        "loader = DataLoader('./data/train', batch_size=32,shuffle=False)"
      ]
    },
    {
      "cell_type": "code",
      "source": [
        "# RUN THIS CODE CELL IN GOOGLE-COLLAB\n",
        "loader = DataLoader('/content/drive/MyDrive/BTP/replay-attack-processed/train.zip', batch_size=32,shuffle=False)"
      ],
      "metadata": {
        "id": "2gu5nBMnI3hp"
      },
      "id": "2gu5nBMnI3hp",
      "execution_count": 9,
      "outputs": []
    },
    {
      "cell_type": "code",
      "execution_count": null,
      "id": "8325141f",
      "metadata": {
        "id": "8325141f"
      },
      "outputs": [],
      "source": [
        "# loader.load_tf_image('./data/train/real/frame_15.jpg')['label_1']"
      ]
    },
    {
      "cell_type": "code",
      "execution_count": null,
      "id": "574f9aaf",
      "metadata": {
        "id": "574f9aaf"
      },
      "outputs": [],
      "source": [
        "# loader.pad_map_fn('./data/train/real/frame_15.jpg')"
      ]
    },
    {
      "cell_type": "code",
      "execution_count": 10,
      "id": "c1d57a6d",
      "metadata": {
        "id": "c1d57a6d",
        "colab": {
          "base_uri": "https://localhost:8080/"
        },
        "outputId": "c0172e58-5840-4ac8-fdfd-9a6c19e18647"
      },
      "outputs": [
        {
          "output_type": "stream",
          "name": "stdout",
          "text": [
            "(32, 256, 256, 3) (32, 1) (32, 8, 8, 1) (32, 4, 4, 1) (32, 2, 2, 1) (32, 1, 1, 1)\n",
            "(32, 256, 256, 3) (32, 1) (32, 8, 8, 1) (32, 4, 4, 1) (32, 2, 2, 1) (32, 1, 1, 1)\n"
          ]
        }
      ],
      "source": [
        "dataset = loader.dataset.take(2)\n",
        "# list(dataset.as_numpy_iterator())\n",
        "a = list(dataset.as_numpy_iterator())\n",
        "for a in list(dataset.as_numpy_iterator()):\n",
        "  print(a['image'].shape, a['label'].shape, a['label_8'].shape, a['label_4'].shape, a['label_2'].shape, a['label_1'].shape)\n"
      ]
    },
    {
      "cell_type": "code",
      "execution_count": 11,
      "id": "bef25f02",
      "metadata": {
        "id": "bef25f02"
      },
      "outputs": [],
      "source": [
        "IMG_SHAPE = (256, 256, 3)"
      ]
    },
    {
      "cell_type": "code",
      "execution_count": 38,
      "id": "aac0f000",
      "metadata": {
        "id": "aac0f000",
        "colab": {
          "base_uri": "https://localhost:8080/",
          "height": 380
        },
        "outputId": "e8724a73-4c02-4915-a90a-79eee84b8345"
      },
      "outputs": [
        {
          "output_type": "error",
          "ename": "ResourceExhaustedError",
          "evalue": "ignored",
          "traceback": [
            "\u001b[0;31m---------------------------------------------------------------------------\u001b[0m",
            "\u001b[0;31mResourceExhaustedError\u001b[0m                    Traceback (most recent call last)",
            "\u001b[0;32m<ipython-input-38-1fd01e0810d9>\u001b[0m in \u001b[0;36m<module>\u001b[0;34m()\u001b[0m\n\u001b[1;32m    116\u001b[0m     \u001b[0;32mreturn\u001b[0m \u001b[0mModel\u001b[0m\u001b[0;34m(\u001b[0m\u001b[0minputs\u001b[0m\u001b[0;34m=\u001b[0m\u001b[0;34m[\u001b[0m\u001b[0mx\u001b[0m\u001b[0;34m,\u001b[0m \u001b[0mlabel_8\u001b[0m\u001b[0;34m,\u001b[0m \u001b[0mlabel_4\u001b[0m\u001b[0;34m]\u001b[0m\u001b[0;34m,\u001b[0m \u001b[0moutputs\u001b[0m\u001b[0;34m=\u001b[0m\u001b[0mself\u001b[0m\u001b[0;34m.\u001b[0m\u001b[0mcall\u001b[0m\u001b[0;34m(\u001b[0m\u001b[0mx\u001b[0m\u001b[0;34m,\u001b[0m \u001b[0mlabel_8\u001b[0m\u001b[0;34m,\u001b[0m \u001b[0mlabel_4\u001b[0m\u001b[0;34m)\u001b[0m\u001b[0;34m)\u001b[0m\u001b[0;34m\u001b[0m\u001b[0;34m\u001b[0m\u001b[0m\n\u001b[1;32m    117\u001b[0m \u001b[0;34m\u001b[0m\u001b[0m\n\u001b[0;32m--> 118\u001b[0;31m \u001b[0mrevisit_model\u001b[0m \u001b[0;34m=\u001b[0m \u001b[0mRevisitResNet50\u001b[0m\u001b[0;34m(\u001b[0m\u001b[0;34m)\u001b[0m\u001b[0;34m\u001b[0m\u001b[0;34m\u001b[0m\u001b[0m\n\u001b[0m\u001b[1;32m    119\u001b[0m \u001b[0mtest_model\u001b[0m \u001b[0;34m=\u001b[0m \u001b[0mrevisit_model\u001b[0m\u001b[0;34m.\u001b[0m\u001b[0mbuild_model\u001b[0m\u001b[0;34m(\u001b[0m\u001b[0;34m)\u001b[0m\u001b[0;34m\u001b[0m\u001b[0;34m\u001b[0m\u001b[0m\n\u001b[1;32m    120\u001b[0m \u001b[0mtest_model\u001b[0m\u001b[0;34m.\u001b[0m\u001b[0msummary\u001b[0m\u001b[0;34m(\u001b[0m\u001b[0;34m)\u001b[0m\u001b[0;34m\u001b[0m\u001b[0;34m\u001b[0m\u001b[0m\n",
            "\u001b[0;32m<ipython-input-38-1fd01e0810d9>\u001b[0m in \u001b[0;36m__init__\u001b[0;34m(self, name, **kwargs)\u001b[0m\n\u001b[1;32m     57\u001b[0m   \u001b[0;32mdef\u001b[0m \u001b[0m__init__\u001b[0m\u001b[0;34m(\u001b[0m\u001b[0mself\u001b[0m\u001b[0;34m,\u001b[0m \u001b[0mname\u001b[0m\u001b[0;34m=\u001b[0m\u001b[0;34m\"revisit_resnet50\"\u001b[0m\u001b[0;34m,\u001b[0m \u001b[0;34m**\u001b[0m\u001b[0mkwargs\u001b[0m\u001b[0;34m)\u001b[0m\u001b[0;34m:\u001b[0m\u001b[0;34m\u001b[0m\u001b[0;34m\u001b[0m\u001b[0m\n\u001b[1;32m     58\u001b[0m     \u001b[0msuper\u001b[0m\u001b[0;34m(\u001b[0m\u001b[0mRevisitResNet50\u001b[0m\u001b[0;34m,\u001b[0m \u001b[0mself\u001b[0m\u001b[0;34m)\u001b[0m\u001b[0;34m.\u001b[0m\u001b[0m__init__\u001b[0m\u001b[0;34m(\u001b[0m\u001b[0;34m)\u001b[0m\u001b[0;34m\u001b[0m\u001b[0;34m\u001b[0m\u001b[0m\n\u001b[0;32m---> 59\u001b[0;31m     \u001b[0mself\u001b[0m\u001b[0;34m.\u001b[0m\u001b[0mbackbone\u001b[0m \u001b[0;34m=\u001b[0m \u001b[0mResNet50\u001b[0m\u001b[0;34m(\u001b[0m\u001b[0minput_shape\u001b[0m\u001b[0;34m=\u001b[0m\u001b[0mIMG_SHAPE\u001b[0m\u001b[0;34m,\u001b[0m \u001b[0minclude_top\u001b[0m\u001b[0;34m=\u001b[0m\u001b[0;32mFalse\u001b[0m\u001b[0;34m,\u001b[0m \u001b[0mweights\u001b[0m\u001b[0;34m=\u001b[0m\u001b[0;34m'imagenet'\u001b[0m\u001b[0;34m)\u001b[0m\u001b[0;34m\u001b[0m\u001b[0;34m\u001b[0m\u001b[0m\n\u001b[0m\u001b[1;32m     60\u001b[0m     \u001b[0;31m# avg. pooling\u001b[0m\u001b[0;34m\u001b[0m\u001b[0;34m\u001b[0m\u001b[0;34m\u001b[0m\u001b[0m\n\u001b[1;32m     61\u001b[0m     \u001b[0mself\u001b[0m\u001b[0;34m.\u001b[0m\u001b[0mavgpool_8\u001b[0m \u001b[0;34m=\u001b[0m \u001b[0mlayers\u001b[0m\u001b[0;34m.\u001b[0m\u001b[0mAveragePooling2D\u001b[0m\u001b[0;34m(\u001b[0m\u001b[0mpool_size\u001b[0m\u001b[0;34m=\u001b[0m\u001b[0;34m(\u001b[0m\u001b[0;36m1\u001b[0m\u001b[0;34m,\u001b[0m\u001b[0;36m1\u001b[0m\u001b[0;34m)\u001b[0m\u001b[0;34m,\u001b[0m \u001b[0mstrides\u001b[0m\u001b[0;34m=\u001b[0m\u001b[0;36m1\u001b[0m\u001b[0;34m,\u001b[0m \u001b[0mpadding\u001b[0m\u001b[0;34m=\u001b[0m\u001b[0;34m'valid'\u001b[0m\u001b[0;34m,\u001b[0m \u001b[0mdata_format\u001b[0m\u001b[0;34m=\u001b[0m\u001b[0;32mNone\u001b[0m\u001b[0;34m)\u001b[0m\u001b[0;34m\u001b[0m\u001b[0;34m\u001b[0m\u001b[0m\n",
            "\u001b[0;32m/usr/local/lib/python3.7/dist-packages/keras/applications/resnet.py\u001b[0m in \u001b[0;36mResNet50\u001b[0;34m(include_top, weights, input_tensor, input_shape, pooling, classes, **kwargs)\u001b[0m\n\u001b[1;32m    457\u001b[0m \u001b[0;34m\u001b[0m\u001b[0m\n\u001b[1;32m    458\u001b[0m   return ResNet(stack_fn, False, True, 'resnet50', include_top, weights,\n\u001b[0;32m--> 459\u001b[0;31m                 input_tensor, input_shape, pooling, classes, **kwargs)\n\u001b[0m\u001b[1;32m    460\u001b[0m \u001b[0;34m\u001b[0m\u001b[0m\n\u001b[1;32m    461\u001b[0m \u001b[0;34m\u001b[0m\u001b[0m\n",
            "\u001b[0;32m/usr/local/lib/python3.7/dist-packages/keras/applications/resnet.py\u001b[0m in \u001b[0;36mResNet\u001b[0;34m(stack_fn, preact, use_bias, model_name, include_top, weights, input_tensor, input_shape, pooling, classes, classifier_activation, **kwargs)\u001b[0m\n\u001b[1;32m    163\u001b[0m   \u001b[0mx\u001b[0m \u001b[0;34m=\u001b[0m \u001b[0mlayers\u001b[0m\u001b[0;34m.\u001b[0m\u001b[0mMaxPooling2D\u001b[0m\u001b[0;34m(\u001b[0m\u001b[0;36m3\u001b[0m\u001b[0;34m,\u001b[0m \u001b[0mstrides\u001b[0m\u001b[0;34m=\u001b[0m\u001b[0;36m2\u001b[0m\u001b[0;34m,\u001b[0m \u001b[0mname\u001b[0m\u001b[0;34m=\u001b[0m\u001b[0;34m'pool1_pool'\u001b[0m\u001b[0;34m)\u001b[0m\u001b[0;34m(\u001b[0m\u001b[0mx\u001b[0m\u001b[0;34m)\u001b[0m\u001b[0;34m\u001b[0m\u001b[0;34m\u001b[0m\u001b[0m\n\u001b[1;32m    164\u001b[0m \u001b[0;34m\u001b[0m\u001b[0m\n\u001b[0;32m--> 165\u001b[0;31m   \u001b[0mx\u001b[0m \u001b[0;34m=\u001b[0m \u001b[0mstack_fn\u001b[0m\u001b[0;34m(\u001b[0m\u001b[0mx\u001b[0m\u001b[0;34m)\u001b[0m\u001b[0;34m\u001b[0m\u001b[0;34m\u001b[0m\u001b[0m\n\u001b[0m\u001b[1;32m    166\u001b[0m \u001b[0;34m\u001b[0m\u001b[0m\n\u001b[1;32m    167\u001b[0m   \u001b[0;32mif\u001b[0m \u001b[0mpreact\u001b[0m\u001b[0;34m:\u001b[0m\u001b[0;34m\u001b[0m\u001b[0;34m\u001b[0m\u001b[0m\n",
            "\u001b[0;32m/usr/local/lib/python3.7/dist-packages/keras/applications/resnet.py\u001b[0m in \u001b[0;36mstack_fn\u001b[0;34m(x)\u001b[0m\n\u001b[1;32m    453\u001b[0m     \u001b[0mx\u001b[0m \u001b[0;34m=\u001b[0m \u001b[0mstack1\u001b[0m\u001b[0;34m(\u001b[0m\u001b[0mx\u001b[0m\u001b[0;34m,\u001b[0m \u001b[0;36m64\u001b[0m\u001b[0;34m,\u001b[0m \u001b[0;36m3\u001b[0m\u001b[0;34m,\u001b[0m \u001b[0mstride1\u001b[0m\u001b[0;34m=\u001b[0m\u001b[0;36m1\u001b[0m\u001b[0;34m,\u001b[0m \u001b[0mname\u001b[0m\u001b[0;34m=\u001b[0m\u001b[0;34m'conv2'\u001b[0m\u001b[0;34m)\u001b[0m\u001b[0;34m\u001b[0m\u001b[0;34m\u001b[0m\u001b[0m\n\u001b[1;32m    454\u001b[0m     \u001b[0mx\u001b[0m \u001b[0;34m=\u001b[0m \u001b[0mstack1\u001b[0m\u001b[0;34m(\u001b[0m\u001b[0mx\u001b[0m\u001b[0;34m,\u001b[0m \u001b[0;36m128\u001b[0m\u001b[0;34m,\u001b[0m \u001b[0;36m4\u001b[0m\u001b[0;34m,\u001b[0m \u001b[0mname\u001b[0m\u001b[0;34m=\u001b[0m\u001b[0;34m'conv3'\u001b[0m\u001b[0;34m)\u001b[0m\u001b[0;34m\u001b[0m\u001b[0;34m\u001b[0m\u001b[0m\n\u001b[0;32m--> 455\u001b[0;31m     \u001b[0mx\u001b[0m \u001b[0;34m=\u001b[0m \u001b[0mstack1\u001b[0m\u001b[0;34m(\u001b[0m\u001b[0mx\u001b[0m\u001b[0;34m,\u001b[0m \u001b[0;36m256\u001b[0m\u001b[0;34m,\u001b[0m \u001b[0;36m6\u001b[0m\u001b[0;34m,\u001b[0m \u001b[0mname\u001b[0m\u001b[0;34m=\u001b[0m\u001b[0;34m'conv4'\u001b[0m\u001b[0;34m)\u001b[0m\u001b[0;34m\u001b[0m\u001b[0;34m\u001b[0m\u001b[0m\n\u001b[0m\u001b[1;32m    456\u001b[0m     \u001b[0;32mreturn\u001b[0m \u001b[0mstack1\u001b[0m\u001b[0;34m(\u001b[0m\u001b[0mx\u001b[0m\u001b[0;34m,\u001b[0m \u001b[0;36m512\u001b[0m\u001b[0;34m,\u001b[0m \u001b[0;36m3\u001b[0m\u001b[0;34m,\u001b[0m \u001b[0mname\u001b[0m\u001b[0;34m=\u001b[0m\u001b[0;34m'conv5'\u001b[0m\u001b[0;34m)\u001b[0m\u001b[0;34m\u001b[0m\u001b[0;34m\u001b[0m\u001b[0m\n\u001b[1;32m    457\u001b[0m \u001b[0;34m\u001b[0m\u001b[0m\n",
            "\u001b[0;32m/usr/local/lib/python3.7/dist-packages/keras/applications/resnet.py\u001b[0m in \u001b[0;36mstack1\u001b[0;34m(x, filters, blocks, stride1, name)\u001b[0m\n\u001b[1;32m    269\u001b[0m     \u001b[0mOutput\u001b[0m \u001b[0mtensor\u001b[0m \u001b[0;32mfor\u001b[0m \u001b[0mthe\u001b[0m \u001b[0mstacked\u001b[0m \u001b[0mblocks\u001b[0m\u001b[0;34m.\u001b[0m\u001b[0;34m\u001b[0m\u001b[0;34m\u001b[0m\u001b[0m\n\u001b[1;32m    270\u001b[0m   \"\"\"\n\u001b[0;32m--> 271\u001b[0;31m   \u001b[0mx\u001b[0m \u001b[0;34m=\u001b[0m \u001b[0mblock1\u001b[0m\u001b[0;34m(\u001b[0m\u001b[0mx\u001b[0m\u001b[0;34m,\u001b[0m \u001b[0mfilters\u001b[0m\u001b[0;34m,\u001b[0m \u001b[0mstride\u001b[0m\u001b[0;34m=\u001b[0m\u001b[0mstride1\u001b[0m\u001b[0;34m,\u001b[0m \u001b[0mname\u001b[0m\u001b[0;34m=\u001b[0m\u001b[0mname\u001b[0m \u001b[0;34m+\u001b[0m \u001b[0;34m'_block1'\u001b[0m\u001b[0;34m)\u001b[0m\u001b[0;34m\u001b[0m\u001b[0;34m\u001b[0m\u001b[0m\n\u001b[0m\u001b[1;32m    272\u001b[0m   \u001b[0;32mfor\u001b[0m \u001b[0mi\u001b[0m \u001b[0;32min\u001b[0m \u001b[0mrange\u001b[0m\u001b[0;34m(\u001b[0m\u001b[0;36m2\u001b[0m\u001b[0;34m,\u001b[0m \u001b[0mblocks\u001b[0m \u001b[0;34m+\u001b[0m \u001b[0;36m1\u001b[0m\u001b[0;34m)\u001b[0m\u001b[0;34m:\u001b[0m\u001b[0;34m\u001b[0m\u001b[0;34m\u001b[0m\u001b[0m\n\u001b[1;32m    273\u001b[0m     \u001b[0mx\u001b[0m \u001b[0;34m=\u001b[0m \u001b[0mblock1\u001b[0m\u001b[0;34m(\u001b[0m\u001b[0mx\u001b[0m\u001b[0;34m,\u001b[0m \u001b[0mfilters\u001b[0m\u001b[0;34m,\u001b[0m \u001b[0mconv_shortcut\u001b[0m\u001b[0;34m=\u001b[0m\u001b[0;32mFalse\u001b[0m\u001b[0;34m,\u001b[0m \u001b[0mname\u001b[0m\u001b[0;34m=\u001b[0m\u001b[0mname\u001b[0m \u001b[0;34m+\u001b[0m \u001b[0;34m'_block'\u001b[0m \u001b[0;34m+\u001b[0m \u001b[0mstr\u001b[0m\u001b[0;34m(\u001b[0m\u001b[0mi\u001b[0m\u001b[0;34m)\u001b[0m\u001b[0;34m)\u001b[0m\u001b[0;34m\u001b[0m\u001b[0;34m\u001b[0m\u001b[0m\n",
            "\u001b[0;32m/usr/local/lib/python3.7/dist-packages/keras/applications/resnet.py\u001b[0m in \u001b[0;36mblock1\u001b[0;34m(x, filters, kernel_size, stride, conv_shortcut, name)\u001b[0m\n\u001b[1;32m    242\u001b[0m \u001b[0;34m\u001b[0m\u001b[0m\n\u001b[1;32m    243\u001b[0m   x = layers.Conv2D(\n\u001b[0;32m--> 244\u001b[0;31m       filters, kernel_size, padding='SAME', name=name + '_2_conv')(x)\n\u001b[0m\u001b[1;32m    245\u001b[0m   x = layers.BatchNormalization(\n\u001b[1;32m    246\u001b[0m       axis=bn_axis, epsilon=1.001e-5, name=name + '_2_bn')(x)\n",
            "\u001b[0;32m/usr/local/lib/python3.7/dist-packages/keras/utils/traceback_utils.py\u001b[0m in \u001b[0;36merror_handler\u001b[0;34m(*args, **kwargs)\u001b[0m\n\u001b[1;32m     65\u001b[0m     \u001b[0;32mexcept\u001b[0m \u001b[0mException\u001b[0m \u001b[0;32mas\u001b[0m \u001b[0me\u001b[0m\u001b[0;34m:\u001b[0m  \u001b[0;31m# pylint: disable=broad-except\u001b[0m\u001b[0;34m\u001b[0m\u001b[0;34m\u001b[0m\u001b[0m\n\u001b[1;32m     66\u001b[0m       \u001b[0mfiltered_tb\u001b[0m \u001b[0;34m=\u001b[0m \u001b[0m_process_traceback_frames\u001b[0m\u001b[0;34m(\u001b[0m\u001b[0me\u001b[0m\u001b[0;34m.\u001b[0m\u001b[0m__traceback__\u001b[0m\u001b[0;34m)\u001b[0m\u001b[0;34m\u001b[0m\u001b[0;34m\u001b[0m\u001b[0m\n\u001b[0;32m---> 67\u001b[0;31m       \u001b[0;32mraise\u001b[0m \u001b[0me\u001b[0m\u001b[0;34m.\u001b[0m\u001b[0mwith_traceback\u001b[0m\u001b[0;34m(\u001b[0m\u001b[0mfiltered_tb\u001b[0m\u001b[0;34m)\u001b[0m \u001b[0;32mfrom\u001b[0m \u001b[0;32mNone\u001b[0m\u001b[0;34m\u001b[0m\u001b[0;34m\u001b[0m\u001b[0m\n\u001b[0m\u001b[1;32m     68\u001b[0m     \u001b[0;32mfinally\u001b[0m\u001b[0;34m:\u001b[0m\u001b[0;34m\u001b[0m\u001b[0;34m\u001b[0m\u001b[0m\n\u001b[1;32m     69\u001b[0m       \u001b[0;32mdel\u001b[0m \u001b[0mfiltered_tb\u001b[0m\u001b[0;34m\u001b[0m\u001b[0;34m\u001b[0m\u001b[0m\n",
            "\u001b[0;32m/usr/local/lib/python3.7/dist-packages/keras/backend.py\u001b[0m in \u001b[0;36mrandom_uniform\u001b[0;34m(self, shape, minval, maxval, dtype)\u001b[0m\n\u001b[1;32m   1920\u001b[0m     return tf.random.uniform(\n\u001b[1;32m   1921\u001b[0m         \u001b[0mshape\u001b[0m\u001b[0;34m=\u001b[0m\u001b[0mshape\u001b[0m\u001b[0;34m,\u001b[0m \u001b[0mminval\u001b[0m\u001b[0;34m=\u001b[0m\u001b[0mminval\u001b[0m\u001b[0;34m,\u001b[0m \u001b[0mmaxval\u001b[0m\u001b[0;34m=\u001b[0m\u001b[0mmaxval\u001b[0m\u001b[0;34m,\u001b[0m \u001b[0mdtype\u001b[0m\u001b[0;34m=\u001b[0m\u001b[0mdtype\u001b[0m\u001b[0;34m,\u001b[0m\u001b[0;34m\u001b[0m\u001b[0;34m\u001b[0m\u001b[0m\n\u001b[0;32m-> 1922\u001b[0;31m         seed=self.make_legacy_seed())\n\u001b[0m\u001b[1;32m   1923\u001b[0m \u001b[0;34m\u001b[0m\u001b[0m\n\u001b[1;32m   1924\u001b[0m   \u001b[0;32mdef\u001b[0m \u001b[0mtruncated_normal\u001b[0m\u001b[0;34m(\u001b[0m\u001b[0mself\u001b[0m\u001b[0;34m,\u001b[0m \u001b[0mshape\u001b[0m\u001b[0;34m,\u001b[0m \u001b[0mmean\u001b[0m\u001b[0;34m=\u001b[0m\u001b[0;36m0.\u001b[0m\u001b[0;34m,\u001b[0m \u001b[0mstddev\u001b[0m\u001b[0;34m=\u001b[0m\u001b[0;36m1.\u001b[0m\u001b[0;34m,\u001b[0m \u001b[0mdtype\u001b[0m\u001b[0;34m=\u001b[0m\u001b[0;32mNone\u001b[0m\u001b[0;34m)\u001b[0m\u001b[0;34m:\u001b[0m\u001b[0;34m\u001b[0m\u001b[0;34m\u001b[0m\u001b[0m\n",
            "\u001b[0;31mResourceExhaustedError\u001b[0m: failed to allocate memory [Op:Mul]"
          ]
        }
      ],
      "source": [
        "# class RevisitResNet50(tf.keras.Model):\n",
        "#   def __init__(self, name=\"revisit_resnet50\", **kwargs):\n",
        "#     super(RevisitResNet50, self).__init__()\n",
        "#     self.backbone = ResNet50(input_shape=IMG_SHAPE, include_top=False, weights='imagenet')\n",
        "#     # avg. pooling\n",
        "#     self.avgpool_8 = layers.AveragePooling2D(pool_size=(1,1), strides=1, padding='valid', data_format=None)\n",
        "#     self.avgpool_4= layers.AveragePooling2D(pool_size=(2,2), strides=2, padding='valid', data_format=None)\n",
        "#     self.avgpool_2= layers.AveragePooling2D(pool_size=(4,4), strides=4, padding='valid', data_format=None)\n",
        "#     self.avgpool_1= layers.AveragePooling2D(pool_size=(8,8), strides=8, padding='valid', data_format=None)\n",
        "#     # 1x1 conv\n",
        "#     self.theta_8 = layers.Conv2D(1, (1,1), activation='sigmoid')\n",
        "#     self.theta_4 = layers.Conv2D(1, (1,1), activation='sigmoid')\n",
        "#     self.theta_2 = layers.Conv2D(1, (1,1), activation='sigmoid')\n",
        "#     self.theta_1 = layers.Conv2D(1, (1,1), activation='sigmoid')\n",
        "#     # dense layer\n",
        "#     self.fc = layers.Dense(1, activation='sigmoid')\n",
        "#     # loss\n",
        "#     self.loss_object = tf.keras.losses.BinaryCrossentropy()\n",
        "\n",
        "#   def call(self, input_img, label_8, label_4, label_2, label_1):\n",
        "#     F = self.backbone(input_img)\n",
        "#     # M8\n",
        "#     x = self.avgpool_8(F)\n",
        "#     M8 = self.theta_8(x)\n",
        "#     # M4\n",
        "#     x = self.avgpool_4(F)\n",
        "#     M4 = self.theta_4(x)\n",
        "#     # M2\n",
        "#     x = self.avgpool_2(F)\n",
        "#     M2 = self.theta_2(x)\n",
        "#     # M1\n",
        "#     x = self.avgpool_1(F)\n",
        "#     M1 = self.theta_1(x)\n",
        "#     # concatenate and predict\n",
        "#     x = layers.Concatenate(axis=1)([layers.Flatten()(M8), layers.Flatten()(M4), layers.Flatten()(M2), layers.Flatten()(M1)])\n",
        "#     y_pred = self.fc(x)\n",
        "#     # pyramid loss\n",
        "#     pyramid_loss = tf.reduce_mean([self.loss_object(label_8, M8), self.loss_object(label_4, M4), self.loss_object(label_2, M2), self.loss_object(label_1, M1)])\n",
        "#     self.add_loss(pyramid_loss)\n",
        "\n",
        "#     return y_pred\n",
        "  \n",
        "#   def build_model(self):\n",
        "#     x = layers.Input(shape=IMG_SHAPE)\n",
        "#     label_8 = layers.Input(shape=(8,8,1), dtype=\"float32\")\n",
        "#     label_4 = layers.Input(shape=(4,4,1), dtype=\"float32\")\n",
        "#     label_2 = layers.Input(shape=(2,2,1), dtype=\"float32\")\n",
        "#     label_1 = layers.Input(shape=(1,1,1), dtype=\"float32\")\n",
        "#     return Model(inputs=[x, label_8, label_4, label_2, label_1], outputs=self.call(x, label_8, label_4, label_2, label_1))\n",
        "\n",
        "\n",
        "# revisit_model = RevisitResNet50()\n",
        "# test_model = revisit_model.build_model()\n",
        "# test_model.summary()\n",
        "\n",
        "class RevisitResNet50(tf.keras.Model):\n",
        "  def __init__(self, name=\"revisit_resnet50\", **kwargs):\n",
        "    super(RevisitResNet50, self).__init__()\n",
        "    self.backbone = ResNet50(input_shape=IMG_SHAPE, include_top=False, weights='imagenet')\n",
        "    # avg. pooling\n",
        "    self.avgpool_8 = layers.AveragePooling2D(pool_size=(1,1), strides=1, padding='valid', data_format=None)\n",
        "    self.avgpool_4= layers.AveragePooling2D(pool_size=(2,2), strides=2, padding='valid', data_format=None)\n",
        "    self.avgpool_2= layers.AveragePooling2D(pool_size=(4,4), strides=4, padding='valid', data_format=None)\n",
        "    self.avgpool_1= layers.AveragePooling2D(pool_size=(8,8), strides=8, padding='valid', data_format=None)\n",
        "    # 1x1 conv\n",
        "    self.theta_8 = layers.Conv2D(1, (1,1), activation='sigmoid')\n",
        "    self.theta_4 = layers.Conv2D(1, (1,1), activation='sigmoid')\n",
        "    self.theta_2 = layers.Conv2D(1, (1,1), activation='sigmoid')\n",
        "    self.theta_1 = layers.Conv2D(1, (1,1), activation='sigmoid')\n",
        "    # dense layer\n",
        "    self.fc = layers.Dense(1, activation='sigmoid')\n",
        "    # loss\n",
        "    self.loss_object = tf.keras.losses.BinaryCrossentropy()\n",
        "\n",
        "  # def call(self, input_img, label_8, label_4, label_2, label_1):\n",
        "  def call(self, input_img, label_8, label_4):\n",
        "    F = self.backbone(input_img)\n",
        "    # M8\n",
        "    x = self.avgpool_8(F)\n",
        "    M8 = self.theta_8(x)\n",
        "    # M4\n",
        "    x = self.avgpool_4(F)\n",
        "    M4 = self.theta_4(x)\n",
        "    # M2\n",
        "    # x = self.avgpool_2(F)\n",
        "    # M2 = self.theta_2(x)\n",
        "    # # M1\n",
        "    # x = self.avgpool_1(F)\n",
        "    # M1 = self.theta_1(x)\n",
        "    # concatenate and predict\n",
        "    #x = layers.Concatenate(axis=1)([layers.Flatten()(M8), layers.Flatten()(M4), layers.Flatten()(M2), layers.Flatten()(M1)])\n",
        "    x1 = layers.Concatenate(axis=1)([layers.Flatten()(M8), layers.Flatten()(M4)])\n",
        "    # x2 = layers.Concatenate(axis=1)([layers.Flatten()(M2), layers.Flatten()(M1)])\n",
        "    #x1 with M8,M4\n",
        "    #x2 with M2 and M1\n",
        "    #y_pred = self.fc(x)\n",
        "    y_pred1 = self.fc(x1)\n",
        "    #y_pred2 = self.fc(x2)\n",
        "    #y_pred=(y_pred1 + y_pred2)/2;\n",
        "    # pyramid loss\n",
        "    #IDEA- pyramid loss 1,2, 1 with M8 M4 and 2 with M2 M1\n",
        "    # pyramid_loss = tf.reduce_mean([self.loss_object(label_8, M8), self.loss_object(label_4, M4), self.loss_object(label_2, M2), self.loss_object(label_1, M1)])\n",
        "    pyramid_loss = tf.reduce_mean([self.loss_object(label_8, M8), self.loss_object(label_4, M4)])\n",
        "\n",
        "    self.add_loss(pyramid_loss)\n",
        "\n",
        "    return y_pred1\n",
        "  \n",
        "  def build_model(self):\n",
        "    x = layers.Input(shape=IMG_SHAPE)\n",
        "    label_8 = layers.Input(shape=(8,8,1), dtype=\"float32\")\n",
        "    label_4 = layers.Input(shape=(4,4,1), dtype=\"float32\")\n",
        "    # label_2 = layers.Input(shape=(2,2,1), dtype=\"float32\")\n",
        "    # label_1 = layers.Input(shape=(1,1,1), dtype=\"float32\")\n",
        "    # return Model(inputs=[x, label_8, label_4, label_2, label_1], outputs=self.call(x, label_8, label_4, label_2, label_1))\n",
        "    return Model(inputs=[x, label_8, label_4], outputs=self.call(x, label_8, label_4))\n",
        "\n",
        "revisit_model = RevisitResNet50()\n",
        "test_model = revisit_model.build_model()\n",
        "test_model.summary()"
      ]
    },
    {
      "cell_type": "code",
      "source": [
        "def calculate_apcer(y_true, y_pred):\n",
        "    true_spoof = 0  #### Spoof being 1\n",
        "    false_real = 0  #### real being 0\n",
        "    for i in range(len(y_true)):\n",
        "        target = y_true[i]\n",
        "        pred = y_pred[i]\n",
        "        if target:\n",
        "            true_spoof += 1\n",
        "            if not pred:\n",
        "                false_real += 1\n",
        "    return false_real / true_spoof if true_spoof else 0"
      ],
      "metadata": {
        "id": "nnOSZdeu_4PB"
      },
      "id": "nnOSZdeu_4PB",
      "execution_count": 13,
      "outputs": []
    },
    {
      "cell_type": "code",
      "source": [
        "def calculate_bpcer(y_true, y_pred):\n",
        "    true_real = 0  #### Spoof being 1\n",
        "    false_spoof = 0  #### real being 0\n",
        "    for i in range(len(y_true)):   \n",
        "        target = y_true[i]\n",
        "        pred = y_pred[i]\n",
        "        if not target:\n",
        "            true_real += 1\n",
        "            if pred:\n",
        "                false_spoof += 1\n",
        "    return false_spoof / true_real if true_real else 0"
      ],
      "metadata": {
        "id": "QSjzGrht_4Rs"
      },
      "id": "QSjzGrht_4Rs",
      "execution_count": 14,
      "outputs": []
    },
    {
      "cell_type": "code",
      "source": [
        "train_loader = DataLoader('/content/drive/MyDrive/BTP/replay-attack-processed/train.zip', batch_size=64, shuffle=True)\n",
        "val_loader =  DataLoader('/content/drive/MyDrive/BTP/replay-attack-processed/val.zip', batch_size=64, shuffle=False)\n",
        "test_loader = DataLoader('/content/drive/MyDrive/BTP/replay-attack-processed/test.zip', batch_size=64, shuffle=False)"
      ],
      "metadata": {
        "id": "L5wr9m4G_4UU"
      },
      "id": "L5wr9m4G_4UU",
      "execution_count": 15,
      "outputs": []
    },
    {
      "cell_type": "code",
      "source": [
        "# len(train_loader.dataset)\n",
        "print(len(train_loader))\n",
        "print(len(val_loader))"
      ],
      "metadata": {
        "colab": {
          "base_uri": "https://localhost:8080/"
        },
        "id": "R2GlE7uc_4W9",
        "outputId": "25a02088-8de2-4c83-e30e-ac45e387996c"
      },
      "id": "R2GlE7uc_4W9",
      "execution_count": 16,
      "outputs": [
        {
          "output_type": "stream",
          "name": "stdout",
          "text": [
            "91705\n",
            "90952\n"
          ]
        }
      ]
    },
    {
      "cell_type": "code",
      "source": [
        "# optimizer = tf.keras.optimizers.Adam(learning_rate=1e-4, decay=5e-5)\n",
        "optimizer = tf.keras.optimizers.SGD(learning_rate=1e-3, momentum=0.9, decay=5e-5)\n",
        "bce_loss_fn = tf.keras.losses.BinaryCrossentropy()\n",
        "loss_metric = tf.keras.metrics.Mean()"
      ],
      "metadata": {
        "id": "4_e7so06_4aA"
      },
      "id": "4_e7so06_4aA",
      "execution_count": 17,
      "outputs": []
    },
    {
      "cell_type": "code",
      "source": [
        "revisit_model.load_weights('/content/drive/MyDrive/BTP/replay-attack-processed/checkpoints/resnet50/cp.ckpt')"
      ],
      "metadata": {
        "id": "pdPg40wx_4cq",
        "colab": {
          "base_uri": "https://localhost:8080/"
        },
        "outputId": "17da1198-b8c8-4112-9d63-f43442743bee"
      },
      "id": "pdPg40wx_4cq",
      "execution_count": null,
      "outputs": [
        {
          "output_type": "execute_result",
          "data": {
            "text/plain": [
              "<tensorflow.python.training.tracking.util.CheckpointLoadStatus at 0x7f0d349d2150>"
            ]
          },
          "metadata": {},
          "execution_count": 16
        }
      ]
    },
    {
      "cell_type": "code",
      "source": [
        "# epochs = 25\n",
        "# start = datetime.now() \n",
        "# for epoch in range(0,epochs+1): \n",
        "#   print(\"Start of epoch %d\" % (epoch,))\n",
        "\n",
        "#   # Iterate over the batches of the dataset\n",
        "#   for step, batch_train in enumerate(train_loader.dataset):\n",
        "#     # print(batch_train['image'].shape, batch_train['label'].shape, batch_train['label_8'].shape, batch_train['label_4'].shape, batch_train['label_2'].shape, batch_train['label_1'].shape)\n",
        "    \n",
        "#     with tf.GradientTape() as tape:\n",
        "#         pred = revisit_model(batch_train['image'], batch_train['label_8'], batch_train['label_4'], batch_train['label_2'], batch_train['label_1'], training=True)\n",
        "#         # compute bcse loss\n",
        "#         loss = bce_loss_fn(batch_train['label'], pred)\n",
        "#         loss += sum(revisit_model.losses)  # add pyramid loss\n",
        "\n",
        "#     grads = tape.gradient(loss, revisit_model.trainable_weights)\n",
        "#     optimizer.apply_gradients(zip(grads, revisit_model.trainable_weights))\n",
        "\n",
        "#     loss_metric(loss)\n",
        "\n",
        "#     if (step+1) % 750 == 0:\n",
        "#       diff_time = datetime.now()-start\n",
        "#       days, seconds = diff_time.days, diff_time.seconds\n",
        "#       hours = days * 24 + seconds // 3600\n",
        "#       minutes = (seconds % 3600) // 60\n",
        "#       seconds = seconds % 60\n",
        "#       print(\"step %d: mean loss = %.6f, time = %d:%d:%d\" % (step+1, loss_metric.result(), hours, minutes, seconds))\n",
        "#       revisit_model.save_weights('/content/drive/MyDrive/BTP/replay-attack-processed/checkpoints/resnet50/cp.ckpt')\n",
        "\n",
        "# revisit_model.save_weights('/content/drive/MyDrive/BTP/replay-attack-processed/checkpoints/resnet50/cp.ckpt')\n",
        "\n",
        "\n",
        "epochs = 25\n",
        "start = dt.now() \n",
        "for epoch in range(0,epochs+1): \n",
        "  print(\"Start of epoch %d\" % (epoch,))\n",
        "\n",
        "  # Iterate over the batches of the dataset\n",
        "  for step, batch_train in enumerate(train_loader.dataset):\n",
        "    # print(batch_train['image'].shape, batch_train['label'].shape, batch_train['label_8'].shape, batch_train['label_4'].shape, batch_train['label_2'].shape, batch_train['label_1'].shape)\n",
        "    \n",
        "    with tf.GradientTape() as tape:\n",
        "        # pred = revisit_model(batch_train['image'], batch_train['label_8'], batch_train['label_4'], batch_train['label_2'], batch_train['label_1'], training=True)\n",
        "        pred = revisit_model(batch_train['image'], batch_train['label_8'], batch_train['label_4'], training=True)\n",
        "        # compute bcse loss\n",
        "        loss = bce_loss_fn(batch_train['label'], pred)\n",
        "        loss += sum(revisit_model.losses)  # add pyramid loss\n",
        "\n",
        "    grads = tape.gradient(loss, revisit_model.trainable_weights)\n",
        "    optimizer.apply_gradients(zip(grads, revisit_model.trainable_weights))\n",
        "\n",
        "    loss_metric(loss)\n",
        "\n",
        "    if (step+1) % 750 == 0:\n",
        "      diff_time = datetime.now()-start\n",
        "      days, seconds = diff_time.days, diff_time.seconds\n",
        "      hours = days * 24 + seconds // 3600\n",
        "      minutes = (seconds % 3600) // 60\n",
        "      seconds = seconds % 60\n",
        "      print(\"step %d: mean loss = %.6f, time = %d:%d:%d\" % (step+1, loss_metric.result(), hours, minutes, seconds))\n",
        "      revisit_model.save_weights('/content/drive/MyDrive/BTP/replay-attack-processed/checkpoints/ResNet84/cp.ckpt')\n",
        "\n",
        "revisit_model.save_weights('/content/drive/MyDrive/BTP/replay-attack-processed/checkpoints/ResNet84/cp.ckpt')"
      ],
      "metadata": {
        "id": "cvjW3DQV_4hN",
        "colab": {
          "base_uri": "https://localhost:8080/",
          "height": 518
        },
        "outputId": "c6b71c72-9869-4e62-97f1-83bb8d47fce2"
      },
      "id": "cvjW3DQV_4hN",
      "execution_count": 35,
      "outputs": [
        {
          "output_type": "stream",
          "name": "stdout",
          "text": [
            "Start of epoch 0\n"
          ]
        },
        {
          "output_type": "error",
          "ename": "ResourceExhaustedError",
          "evalue": "ignored",
          "traceback": [
            "\u001b[0;31m---------------------------------------------------------------------------\u001b[0m",
            "\u001b[0;31mResourceExhaustedError\u001b[0m                    Traceback (most recent call last)",
            "\u001b[0;32m<ipython-input-35-e31bfa4699bb>\u001b[0m in \u001b[0;36m<module>\u001b[0;34m()\u001b[0m\n\u001b[1;32m     42\u001b[0m     \u001b[0;32mwith\u001b[0m \u001b[0mtf\u001b[0m\u001b[0;34m.\u001b[0m\u001b[0mGradientTape\u001b[0m\u001b[0;34m(\u001b[0m\u001b[0;34m)\u001b[0m \u001b[0;32mas\u001b[0m \u001b[0mtape\u001b[0m\u001b[0;34m:\u001b[0m\u001b[0;34m\u001b[0m\u001b[0;34m\u001b[0m\u001b[0m\n\u001b[1;32m     43\u001b[0m         \u001b[0;31m# pred = revisit_model(batch_train['image'], batch_train['label_8'], batch_train['label_4'], batch_train['label_2'], batch_train['label_1'], training=True)\u001b[0m\u001b[0;34m\u001b[0m\u001b[0;34m\u001b[0m\u001b[0;34m\u001b[0m\u001b[0m\n\u001b[0;32m---> 44\u001b[0;31m         \u001b[0mpred\u001b[0m \u001b[0;34m=\u001b[0m \u001b[0mrevisit_model\u001b[0m\u001b[0;34m(\u001b[0m\u001b[0mbatch_train\u001b[0m\u001b[0;34m[\u001b[0m\u001b[0;34m'image'\u001b[0m\u001b[0;34m]\u001b[0m\u001b[0;34m,\u001b[0m \u001b[0mbatch_train\u001b[0m\u001b[0;34m[\u001b[0m\u001b[0;34m'label_8'\u001b[0m\u001b[0;34m]\u001b[0m\u001b[0;34m,\u001b[0m \u001b[0mbatch_train\u001b[0m\u001b[0;34m[\u001b[0m\u001b[0;34m'label_4'\u001b[0m\u001b[0;34m]\u001b[0m\u001b[0;34m,\u001b[0m \u001b[0mtraining\u001b[0m\u001b[0;34m=\u001b[0m\u001b[0;32mTrue\u001b[0m\u001b[0;34m)\u001b[0m\u001b[0;34m\u001b[0m\u001b[0;34m\u001b[0m\u001b[0m\n\u001b[0m\u001b[1;32m     45\u001b[0m         \u001b[0;31m# compute bcse loss\u001b[0m\u001b[0;34m\u001b[0m\u001b[0;34m\u001b[0m\u001b[0;34m\u001b[0m\u001b[0m\n\u001b[1;32m     46\u001b[0m         \u001b[0mloss\u001b[0m \u001b[0;34m=\u001b[0m \u001b[0mbce_loss_fn\u001b[0m\u001b[0;34m(\u001b[0m\u001b[0mbatch_train\u001b[0m\u001b[0;34m[\u001b[0m\u001b[0;34m'label'\u001b[0m\u001b[0;34m]\u001b[0m\u001b[0;34m,\u001b[0m \u001b[0mpred\u001b[0m\u001b[0;34m)\u001b[0m\u001b[0;34m\u001b[0m\u001b[0;34m\u001b[0m\u001b[0m\n",
            "\u001b[0;32m/usr/local/lib/python3.7/dist-packages/keras/utils/traceback_utils.py\u001b[0m in \u001b[0;36merror_handler\u001b[0;34m(*args, **kwargs)\u001b[0m\n\u001b[1;32m     65\u001b[0m     \u001b[0;32mexcept\u001b[0m \u001b[0mException\u001b[0m \u001b[0;32mas\u001b[0m \u001b[0me\u001b[0m\u001b[0;34m:\u001b[0m  \u001b[0;31m# pylint: disable=broad-except\u001b[0m\u001b[0;34m\u001b[0m\u001b[0;34m\u001b[0m\u001b[0m\n\u001b[1;32m     66\u001b[0m       \u001b[0mfiltered_tb\u001b[0m \u001b[0;34m=\u001b[0m \u001b[0m_process_traceback_frames\u001b[0m\u001b[0;34m(\u001b[0m\u001b[0me\u001b[0m\u001b[0;34m.\u001b[0m\u001b[0m__traceback__\u001b[0m\u001b[0;34m)\u001b[0m\u001b[0;34m\u001b[0m\u001b[0;34m\u001b[0m\u001b[0m\n\u001b[0;32m---> 67\u001b[0;31m       \u001b[0;32mraise\u001b[0m \u001b[0me\u001b[0m\u001b[0;34m.\u001b[0m\u001b[0mwith_traceback\u001b[0m\u001b[0;34m(\u001b[0m\u001b[0mfiltered_tb\u001b[0m\u001b[0;34m)\u001b[0m \u001b[0;32mfrom\u001b[0m \u001b[0;32mNone\u001b[0m\u001b[0;34m\u001b[0m\u001b[0;34m\u001b[0m\u001b[0m\n\u001b[0m\u001b[1;32m     68\u001b[0m     \u001b[0;32mfinally\u001b[0m\u001b[0;34m:\u001b[0m\u001b[0;34m\u001b[0m\u001b[0;34m\u001b[0m\u001b[0m\n\u001b[1;32m     69\u001b[0m       \u001b[0;32mdel\u001b[0m \u001b[0mfiltered_tb\u001b[0m\u001b[0;34m\u001b[0m\u001b[0;34m\u001b[0m\u001b[0m\n",
            "\u001b[0;32m<ipython-input-31-1fd01e0810d9>\u001b[0m in \u001b[0;36mcall\u001b[0;34m(self, input_img, label_8, label_4)\u001b[0m\n\u001b[1;32m     75\u001b[0m   \u001b[0;31m# def call(self, input_img, label_8, label_4, label_2, label_1):\u001b[0m\u001b[0;34m\u001b[0m\u001b[0;34m\u001b[0m\u001b[0;34m\u001b[0m\u001b[0m\n\u001b[1;32m     76\u001b[0m   \u001b[0;32mdef\u001b[0m \u001b[0mcall\u001b[0m\u001b[0;34m(\u001b[0m\u001b[0mself\u001b[0m\u001b[0;34m,\u001b[0m \u001b[0minput_img\u001b[0m\u001b[0;34m,\u001b[0m \u001b[0mlabel_8\u001b[0m\u001b[0;34m,\u001b[0m \u001b[0mlabel_4\u001b[0m\u001b[0;34m)\u001b[0m\u001b[0;34m:\u001b[0m\u001b[0;34m\u001b[0m\u001b[0;34m\u001b[0m\u001b[0m\n\u001b[0;32m---> 77\u001b[0;31m     \u001b[0mF\u001b[0m \u001b[0;34m=\u001b[0m \u001b[0mself\u001b[0m\u001b[0;34m.\u001b[0m\u001b[0mbackbone\u001b[0m\u001b[0;34m(\u001b[0m\u001b[0minput_img\u001b[0m\u001b[0;34m)\u001b[0m\u001b[0;34m\u001b[0m\u001b[0;34m\u001b[0m\u001b[0m\n\u001b[0m\u001b[1;32m     78\u001b[0m     \u001b[0;31m# M8\u001b[0m\u001b[0;34m\u001b[0m\u001b[0;34m\u001b[0m\u001b[0;34m\u001b[0m\u001b[0m\n\u001b[1;32m     79\u001b[0m     \u001b[0mx\u001b[0m \u001b[0;34m=\u001b[0m \u001b[0mself\u001b[0m\u001b[0;34m.\u001b[0m\u001b[0mavgpool_8\u001b[0m\u001b[0;34m(\u001b[0m\u001b[0mF\u001b[0m\u001b[0;34m)\u001b[0m\u001b[0;34m\u001b[0m\u001b[0;34m\u001b[0m\u001b[0m\n",
            "\u001b[0;31mResourceExhaustedError\u001b[0m: Exception encountered when calling layer \"conv5_block1_0_conv\" (type Conv2D).\n\nOOM when allocating tensor with shape[64,1024,16,16] and type float on /job:localhost/replica:0/task:0/device:GPU:0 by allocator GPU_0_bfc [Op:Conv2D]\n\nCall arguments received:\n  • inputs=tf.Tensor(shape=(64, 16, 16, 1024), dtype=float32)"
          ]
        }
      ]
    },
    {
      "cell_type": "code",
      "source": [
        "dataset = val_loader.dataset.take(1)\n",
        "a = list(dataset.as_numpy_iterator())\n",
        "for a in list(dataset.as_numpy_iterator()):\n",
        "  print(a['original_image'].shape, a['image'].shape, a['label'].shape, a['label_8'].shape, a['label_4'].shape, a['label_2'].shape, a['label_1'].shape)\n",
        "  # print(a['image'])\n",
        "  cv2_imshow(a['original_image'][0])"
      ],
      "metadata": {
        "colab": {
          "base_uri": "https://localhost:8080/",
          "height": 291
        },
        "id": "GkZDOQZL2ODu",
        "outputId": "6158b31a-4e36-4145-deae-43b69441d980"
      },
      "id": "GkZDOQZL2ODu",
      "execution_count": null,
      "outputs": [
        {
          "output_type": "stream",
          "name": "stdout",
          "text": [
            "(64, 256, 256, 3) (64, 256, 256, 3) (64, 1) (64, 8, 8, 1) (64, 4, 4, 1) (64, 2, 2, 1) (64, 1, 1, 1)\n"
          ]
        },
        {
          "output_type": "display_data",
          "data": {
            "text/plain": [
              "<PIL.Image.Image image mode=RGB size=256x256 at 0x7F0C5A914810>"
            ],
            "image/png": "[encoded data removed]"
          },
          "metadata": {}
        }
      ]
    },
    {
      "cell_type": "code",
      "source": [
        "ths = 0.12\n",
        "for step, batch in enumerate(val_loader.dataset):\n",
        "  pred = revisit_model(batch['image'], batch['label_8'], batch['label_4'], batch['label_2'], batch['label_1'], training=False)\n",
        "  pred_ = [1 if i>ths else 0 for i in pred.numpy().reshape(batch['label'].shape[0])]\n",
        "  labels = [int(i) for i in batch['label'].numpy().reshape(batch['label'].shape[0])]\n",
        "  print(pred.numpy().reshape(batch['label'].shape[0]))\n",
        "  print(pred_)\n",
        "  print(labels)\n",
        "  print(calculate_apcer(labels, pred_))\n",
        "  break"
      ],
      "metadata": {
        "id": "hBll_DdM_4j8",
        "colab": {
          "base_uri": "https://localhost:8080/"
        },
        "outputId": "3a941ea7-1f29-4d8a-df2f-bc2ff3ca6eb7"
      },
      "id": "hBll_DdM_4j8",
      "execution_count": null,
      "outputs": [
        {
          "output_type": "stream",
          "name": "stdout",
          "text": [
            "[0.01069435 0.00835467 0.01171602 0.00441297 0.99878603 0.01107987\n",
            " 0.00583074 0.01143271 0.9988458  0.01483636 0.00939777 0.01475551\n",
            " 0.04639601 0.00956023 0.99902904 0.00532402 0.99910897 0.00711573\n",
            " 0.99761105 0.01459572 0.9986986  0.01046652 0.04611729 0.00678993\n",
            " 0.99885356 0.00934451 0.9987858  0.00505971 0.9988727  0.993808\n",
            " 0.00786722 0.0063717  0.00606979 0.00910079 0.01158722 0.89618474\n",
            " 0.00579495 0.00712733 0.99876654 0.00490505 0.00925261 0.01764331\n",
            " 0.00861573 0.00890824 0.00791202 0.9983816  0.00491687 0.01159847\n",
            " 0.96515524 0.00908745 0.00943418 0.00721077 0.99878436 0.00750866\n",
            " 0.0112094  0.00472167 0.99851364 0.9987888  0.00696817 0.01018306\n",
            " 0.01728564 0.01062738 0.0097823  0.01188201]\n",
            "[0, 0, 0, 0, 1, 0, 0, 0, 1, 0, 0, 0, 0, 0, 1, 0, 1, 0, 1, 0, 1, 0, 0, 0, 1, 0, 1, 0, 1, 1, 0, 0, 0, 0, 0, 1, 0, 0, 1, 0, 0, 0, 0, 0, 0, 1, 0, 0, 1, 0, 0, 0, 1, 0, 0, 0, 1, 1, 0, 0, 0, 0, 0, 0]\n",
            "[0, 0, 0, 0, 1, 0, 0, 0, 1, 0, 0, 0, 0, 0, 1, 0, 1, 0, 1, 0, 1, 0, 0, 0, 1, 0, 1, 0, 1, 1, 0, 0, 0, 0, 0, 1, 0, 0, 1, 0, 0, 0, 0, 0, 0, 1, 0, 0, 1, 0, 0, 0, 1, 0, 0, 0, 1, 1, 0, 0, 0, 0, 0, 0]\n",
            "0.0\n"
          ]
        }
      ]
    },
    {
      "cell_type": "code",
      "source": [
        "# testing on a single test image\n",
        "# ATTACK - 0\n",
        "# REAL - 1\n",
        "ths = 0.12\n",
        "idx = 61\n",
        "dataset = test_loader.dataset.take(1)\n",
        "# list(dataset.as_numpy_iterator())\n",
        "a = list(dataset.as_numpy_iterator())\n",
        "test_img = a[0]['original_image'][idx]\n",
        "cv2_imshow(test_img)\n",
        "original_label = a[0]['label'][idx]\n",
        "if original_label[0] == 0:\n",
        "  print('ORIGINAL: ATTACK')\n",
        "else:\n",
        "  print('ORIGINAL: REAL') \n",
        "# for a in list(dataset.as_numpy_iterator()):\n",
        "#   print(a['original_image'].shape)\n",
        "#   cv2_imshow(a['original_image'][2])\n",
        "# revisit_model.predict(a[0]['image'],a[0]['label_8'],a[0]['label_4'],a[0]['label_2'],a[0]['label_1'])\n",
        "predicted_all = test_model.predict([a[0]['image'],a[0]['label_8'],a[0]['label_4'],a[0]['label_2'],a[0]['label_1']])\n",
        "predicted = predicted_all[idx]\n",
        "print(f'{0 if predicted < ths else 1} ~ {predicted}' )\n",
        "print('Predicted: ATTACK' if predicted < ths else 'Predicted: REAL')\n"
      ],
      "metadata": {
        "id": "EhDA7MT7_4nT",
        "colab": {
          "base_uri": "https://localhost:8080/",
          "height": 325
        },
        "outputId": "ca507e27-89e5-48d5-c792-81d499b7d5bf"
      },
      "id": "EhDA7MT7_4nT",
      "execution_count": null,
      "outputs": [
        {
          "output_type": "display_data",
          "data": {
            "text/plain": [
              "<PIL.Image.Image image mode=RGB size=256x256 at 0x7F0C77B9E250>"
            ],
            "image/png": "[encoded data removed]"
          },
          "metadata": {}
        },
        {
          "output_type": "stream",
          "name": "stdout",
          "text": [
            "ORIGINAL: ATTACK\n",
            "0 ~ [0.0084992]\n",
            "Predicted: ATTACK\n"
          ]
        }
      ]
    },
    {
      "cell_type": "code",
      "source": [
        ""
      ],
      "metadata": {
        "id": "UVKrK3tZ_4pk"
      },
      "id": "UVKrK3tZ_4pk",
      "execution_count": null,
      "outputs": []
    },
    {
      "cell_type": "code",
      "source": [
        ""
      ],
      "metadata": {
        "id": "kHal8Qms_4sS"
      },
      "id": "kHal8Qms_4sS",
      "execution_count": null,
      "outputs": []
    },
    {
      "cell_type": "code",
      "source": [
        ""
      ],
      "metadata": {
        "id": "JoeouS7k_4vI"
      },
      "id": "JoeouS7k_4vI",
      "execution_count": null,
      "outputs": []
    },
    {
      "cell_type": "code",
      "source": [
        ""
      ],
      "metadata": {
        "id": "2W7EyQgF_4yM"
      },
      "id": "2W7EyQgF_4yM",
      "execution_count": null,
      "outputs": []
    },
    {
      "cell_type": "code",
      "source": [
        ""
      ],
      "metadata": {
        "id": "adglHyFA_41E"
      },
      "id": "adglHyFA_41E",
      "execution_count": null,
      "outputs": []
    },
    {
      "cell_type": "code",
      "execution_count": null,
      "id": "5877d7e9",
      "metadata": {
        "id": "5877d7e9"
      },
      "outputs": [],
      "source": [
        ""
      ]
    }
  ],
  "metadata": {
    "kernelspec": {
      "display_name": "Python 3",
      "name": "python3"
    },
    "language_info": {
      "name": "python"
    },
    "colab": {
      "name": "Pixel Wise Supervision - REPLAY.ipynb",
      "provenance": [],
      "toc_visible": true
    },
    "accelerator": "GPU"
  },
  "nbformat": 4,
  "nbformat_minor": 5
}