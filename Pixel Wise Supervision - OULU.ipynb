{
 "cells": [
  {
   "cell_type": "markdown",
   "id": "c6334ab1",
   "metadata": {},
   "source": [
    "# DATA PROCESSING AND CLEANUP"
   ]
  },
  {
   "cell_type": "code",
   "execution_count": null,
   "id": "32e5ace5",
   "metadata": {},
   "outputs": [],
   "source": [
    "pwd"
   ]
  },
  {
   "cell_type": "code",
   "execution_count": null,
   "id": "7a881280",
   "metadata": {},
   "outputs": [],
   "source": [
    "ls"
   ]
  },
  {
   "cell_type": "code",
   "execution_count": null,
   "id": "a010997f",
   "metadata": {},
   "outputs": [],
   "source": [
    "import os,tarfile"
   ]
  },
  {
   "cell_type": "code",
   "execution_count": null,
   "id": "80ab6e49",
   "metadata": {},
   "outputs": [],
   "source": [
    "# change current working directory to OULU\n",
    "os.chdir('/home/pineapple45/ANMOL/BTP/pixel-wise-supervision/OULU')"
   ]
  },
  {
   "cell_type": "code",
   "execution_count": null,
   "id": "7ac6125a",
   "metadata": {},
   "outputs": [],
   "source": [
    "# list all files in OULU\n",
    "ls"
   ]
  },
  {
   "cell_type": "code",
   "execution_count": null,
   "id": "19ba2ac0",
   "metadata": {},
   "outputs": [],
   "source": [
    "# EXTRACT .tar FILES FOR TRAINING DATA\n",
    "train_files = tarfile.open('Train_files.tar')\n",
    "train_files.extractall('./train_files') # specify which folder to extract to\n",
    "train_files.close()"
   ]
  },
  {
   "cell_type": "code",
   "execution_count": null,
   "id": "23d31e0b",
   "metadata": {},
   "outputs": [],
   "source": [
    "# EXTRACT .tar FILES FOR TESTING DATA\n",
    "train_files = tarfile.open('Test_files.tar')\n",
    "train_files.extractall('./train_files') # specify which folder to extract to\n",
    "train_files.close()"
   ]
  },
  {
   "cell_type": "code",
   "execution_count": null,
   "id": "77dbf964",
   "metadata": {},
   "outputs": [],
   "source": []
  },
  {
   "cell_type": "code",
   "execution_count": null,
   "id": "6be58334",
   "metadata": {},
   "outputs": [],
   "source": []
  },
  {
   "cell_type": "markdown",
   "id": "6ab08000",
   "metadata": {},
   "source": [
    "# ACTUAL COMPUTATION"
   ]
  },
  {
   "cell_type": "code",
   "execution_count": null,
   "id": "1f0460d2",
   "metadata": {},
   "outputs": [],
   "source": [
    "import numpy as np\n",
    "import zipfile, os, cv2, random\n",
    "from datetime import datetime\n",
    "import tensorflow as tf\n",
    "from tensorflow.keras.applications import ResNet50\n",
    "from tensorflow.keras.models import load_model,Model\n",
    "from tensorflow import keras\n",
    "from tensorflow.keras import layers\n",
    "from PIL import Image\n",
    "import time\n",
    "import matplotlib.pyplot as plt\n",
    "import matplotlib\n",
    "import requests\n",
    "import base64\n",
    "import os\n",
    "from pathlib import Path\n",
    "from io import BytesIO\n",
    "matplotlib.rcParams['figure.figsize'] = (12,12)\n",
    "matplotlib.rcParams['axes.grid'] = False"
   ]
  },
  {
   "cell_type": "code",
   "execution_count": null,
   "id": "71a6ca81",
   "metadata": {},
   "outputs": [],
   "source": [
    "print(\"Num GPUs Available: \", len(tf.config.list_physical_devices('GPU')))"
   ]
  },
  {
   "cell_type": "code",
   "execution_count": null,
   "id": "8ddd2255",
   "metadata": {},
   "outputs": [],
   "source": []
  }
 ],
 "metadata": {
  "kernelspec": {
   "display_name": "Python [conda env:pixel-wise-super]",
   "language": "python",
   "name": "conda-env-pixel-wise-super-py"
  },
  "language_info": {
   "codemirror_mode": {
    "name": "ipython",
    "version": 3
   },
   "file_extension": ".py",
   "mimetype": "text/x-python",
   "name": "python",
   "nbconvert_exporter": "python",
   "pygments_lexer": "ipython3",
   "version": "3.9.11"
  }
 },
 "nbformat": 4,
 "nbformat_minor": 5
}
